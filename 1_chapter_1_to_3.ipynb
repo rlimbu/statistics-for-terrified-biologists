{
 "cells": [
  {
   "cell_type": "markdown",
   "metadata": {
    "collapsed": true
   },
   "source": [
    "# Chapter 1 to 3 Notes\n",
    "\n",
    "* Statistics is the science of evaluating population parameters using sample estimates. The word *parameter* comes from Greek and means \"beyond measure\". Populations of interest cannot be evauated directly and, hence, the need for statistics.  \n",
    "\n",
    "\n",
    "* An important statistic is *mean*, which provides a central tendency of the population. Mean provides a typical value and is used to estimate the population average. \n",
    "\n",
    "\n",
    "* Mean alone does not provide an adequate summary statistic. Consider the claim of a fictious matchbox company called *Matchless Matches* that advertises its matchboxes as having 48 matches on average. You buy 6 matchboxes from this company and find that they contain 48, 49, 49, 47, 48 and 47 matches. So far so good. Another matchbox company, *Mighty Matches*, also claims to make matchboxes with 48 matches on average per matchbox. Again, you buy six matches from this company and find that they contain 12, 62, 3, 50, 93 and 68 matches, which average to 48. However, the number of matches in *Mighty Matches'*s case vary a lot. Another statistic is required to capture this type of variation.\n",
    "\n",
    "\n",
    "* One way of measuring variation in data is by subtracting the lowest value from the highest value in the data. This statistic is known as range. The range in the sample matchboxes of <i>Matchless Matches</i> was (49 - 47 = ) 2 and (93 - 12 =) 81 in those of <i>Mighty Matches</i>. However, range only uses 2 data points from the sample. It would be better if all the data points in the sample could be used, just as in the case of mean.\n",
    "\n",
    "\n",
    "* If all the matchboxes from the above examples had 48 matches, which happens to be the mean in both examples, then there would be no variation. Hence, one way of calculating variation is by finding out how much each matchbox deviates from the mean and adding them. This would also show the contribution of each matchbox to the total variation."
   ]
  },
  {
   "cell_type": "markdown",
   "metadata": {},
   "source": [
    "What follows is a calculation of mean and total deviation of <i>Matchless Matches</i> and <i>Mighty Matches</i> samples from the above examples."
   ]
  },
  {
   "cell_type": "code",
   "execution_count": 1,
   "metadata": {
    "collapsed": true
   },
   "outputs": [],
   "source": [
    "import numpy as np\n",
    "\n",
    "matchless = np.array([48, 49, 49, 47, 48, 47])\n",
    "mighty = np.array([12, 62, 3, 50, 93, 68])"
   ]
  },
  {
   "cell_type": "code",
   "execution_count": 2,
   "metadata": {
    "collapsed": true
   },
   "outputs": [],
   "source": [
    "# save means\n",
    "matchless_mean = np.mean(matchless)\n",
    "mighty_mean = np.mean(mighty)"
   ]
  },
  {
   "cell_type": "code",
   "execution_count": 3,
   "metadata": {},
   "outputs": [
    {
     "data": {
      "text/plain": [
       "(48.0, 48.0)"
      ]
     },
     "execution_count": 3,
     "metadata": {},
     "output_type": "execute_result"
    }
   ],
   "source": [
    "matchless_mean, mighty_mean"
   ]
  },
  {
   "cell_type": "markdown",
   "metadata": {},
   "source": [
    "Calculate total deviations, which is a measure of variation."
   ]
  },
  {
   "cell_type": "code",
   "execution_count": 4,
   "metadata": {},
   "outputs": [
    {
     "data": {
      "text/plain": [
       "0.0"
      ]
     },
     "execution_count": 4,
     "metadata": {},
     "output_type": "execute_result"
    }
   ],
   "source": [
    "matchless_dev = np.sum(matchless - matchless_mean)\n",
    "matchless_dev"
   ]
  },
  {
   "cell_type": "code",
   "execution_count": 5,
   "metadata": {
    "scrolled": true
   },
   "outputs": [
    {
     "data": {
      "text/plain": [
       "0.0"
      ]
     },
     "execution_count": 5,
     "metadata": {},
     "output_type": "execute_result"
    }
   ],
   "source": [
    "mighty_dev = np.sum(mighty - mighty_mean)\n",
    "mighty_dev"
   ]
  },
  {
   "cell_type": "markdown",
   "metadata": {},
   "source": [
    "If the signs of the deviations from the mean are ignored, the variation in the matchbox samples become apparent."
   ]
  },
  {
   "cell_type": "code",
   "execution_count": 6,
   "metadata": {},
   "outputs": [
    {
     "data": {
      "text/plain": [
       "4.0"
      ]
     },
     "execution_count": 6,
     "metadata": {},
     "output_type": "execute_result"
    }
   ],
   "source": [
    "matchless_dev_abs = np.sum(np.abs(matchless - matchless_mean))\n",
    "matchless_dev_abs"
   ]
  },
  {
   "cell_type": "code",
   "execution_count": 7,
   "metadata": {},
   "outputs": [
    {
     "data": {
      "text/plain": [
       "162.0"
      ]
     },
     "execution_count": 7,
     "metadata": {},
     "output_type": "execute_result"
    }
   ],
   "source": [
    "mighty_dev_abs = np.sum(np.abs(mighty - mighty_mean))\n",
    "mighty_dev_abs"
   ]
  },
  {
   "cell_type": "markdown",
   "metadata": {},
   "source": [
    "* There are 2 issues with total deviation as calculated above. First, it depends on sample size (<i>n</i>). As the sample size grows, so does total variation. That means only variations derived from equal-sized samples can be compared, unlike mean. Second, negative and positive deviations from the mean, when summed, cancel each other out, masking the true magnitude of variation in the data, as happened in the above examples when absolute values of the deviations from the mean were not taken.\n",
    "\n",
    "\n",
    "* The first issue raised above can be addressed by taking the mean of the deviations by dividing it by sample size. This gives mean deviation.\n",
    "\n",
    "\n",
    "* The second issue can be addressed by squaring the deviations from the mean prior to summing them. As in the example of the mean deviation, the sum is normalised by dividing it by *n* - 1, where *n* is the sample size. This gives *variance*, a key statistic.\n",
    "\n",
    "\n",
    "* The denominator *n* - 1 in the calculation of *variance* is known as the degree of freedom.\n",
    "\n",
    "\n",
    "* Since *variance* involves squaring deviations from the mean, it produces squares of whatever unit is being used to describe sample. For example, if the sample data represents heights of people in metres, then *variance* produces squarers of metres. This does not make sense. \n",
    "\n",
    "\n",
    "* Standard deviation is the square root of *variance*. Together with *mean* and *variance*, standard deviation is an important statistic, \"the key to the statistical lock.\" A population from which the sample was drawn can be summarised by the *mean+-standard deviation*.\n"
   ]
  },
  {
   "cell_type": "code",
   "execution_count": 8,
   "metadata": {},
   "outputs": [
    {
     "data": {
      "text/plain": [
       "0.66666666666666663"
      ]
     },
     "execution_count": 8,
     "metadata": {},
     "output_type": "execute_result"
    }
   ],
   "source": [
    "# calculate absolute mean \n",
    "matchless_abs_mean_dev = np.sum(np.abs(matchless - matchless_mean)) / len(matchless)\n",
    "matchless_abs_mean_dev"
   ]
  },
  {
   "cell_type": "code",
   "execution_count": 9,
   "metadata": {},
   "outputs": [
    {
     "data": {
      "text/plain": [
       "27.0"
      ]
     },
     "execution_count": 9,
     "metadata": {},
     "output_type": "execute_result"
    }
   ],
   "source": [
    "mighty_abs_mean_dev = np.sum(np.abs(mighty - mighty_mean)) / len(mighty)\n",
    "mighty_abs_mean_dev"
   ]
  },
  {
   "cell_type": "code",
   "execution_count": 10,
   "metadata": {},
   "outputs": [
    {
     "data": {
      "text/plain": [
       "0.80000000000000004"
      ]
     },
     "execution_count": 10,
     "metadata": {},
     "output_type": "execute_result"
    }
   ],
   "source": [
    "# calculate variance\n",
    "matchless_var = np.sum((matchless - matchless_mean)**2) / (len(matchless) - 1)\n",
    "matchless_var"
   ]
  },
  {
   "cell_type": "code",
   "execution_count": 11,
   "metadata": {},
   "outputs": [
    {
     "data": {
      "text/plain": [
       "1189.2"
      ]
     },
     "execution_count": 11,
     "metadata": {},
     "output_type": "execute_result"
    }
   ],
   "source": [
    "mighty_var = np.sum((mighty - mighty_mean)**2) / (len(mighty) - 1)\n",
    "mighty_var"
   ]
  },
  {
   "cell_type": "code",
   "execution_count": 12,
   "metadata": {},
   "outputs": [
    {
     "data": {
      "text/plain": [
       "0.89442719099991586"
      ]
     },
     "execution_count": 12,
     "metadata": {},
     "output_type": "execute_result"
    }
   ],
   "source": [
    "# calculate standard deviations\n",
    "matchless_std = np.sqrt(matchless_var)\n",
    "matchless_std\n"
   ]
  },
  {
   "cell_type": "code",
   "execution_count": 13,
   "metadata": {},
   "outputs": [
    {
     "data": {
      "text/plain": [
       "34.484779251142093"
      ]
     },
     "execution_count": 13,
     "metadata": {},
     "output_type": "execute_result"
    }
   ],
   "source": [
    "mighty_std = np.sqrt(mighty_var)\n",
    "mighty_std"
   ]
  },
  {
   "cell_type": "markdown",
   "metadata": {},
   "source": [
    "The standard deviations show that on average, the number of matches in a *Matchless* matchbox deviate by 0.82 from the mean whereas a *Mighty* matchbox deviates from the mean by 31.48. Clearly, *Mighty* is not match to *Matchless* when it comes to consistency and customer experience."
   ]
  },
  {
   "cell_type": "markdown",
   "metadata": {},
   "source": [
    "## Chapter 3 spare-time activities "
   ]
  },
  {
   "cell_type": "markdown",
   "metadata": {},
   "source": [
    "1 - What is the variance of the following numbers, which total 90?\n",
    "        9, 10, 13, 6, 8, 12, 13, 10, 9"
   ]
  },
  {
   "cell_type": "code",
   "execution_count": 14,
   "metadata": {
    "collapsed": true
   },
   "outputs": [],
   "source": [
    "sample = np.array([9, 10, 13, 6, 8, 12, 13, 10, 9])\n",
    "samp_mean = np.mean(sample)"
   ]
  },
  {
   "cell_type": "code",
   "execution_count": 15,
   "metadata": {},
   "outputs": [
    {
     "data": {
      "text/plain": [
       "5.5"
      ]
     },
     "execution_count": 15,
     "metadata": {},
     "output_type": "execute_result"
    }
   ],
   "source": [
    "np.sum(((sample - samp_mean)**2))/(len(sample) - 1)"
   ]
  },
  {
   "cell_type": "code",
   "execution_count": 16,
   "metadata": {},
   "outputs": [
    {
     "data": {
      "text/plain": [
       "5.5"
      ]
     },
     "execution_count": 16,
     "metadata": {},
     "output_type": "execute_result"
    }
   ],
   "source": [
    "# using numpy\n",
    "np.var(sample, ddof=1)"
   ]
  },
  {
   "cell_type": "markdown",
   "metadata": {},
   "source": [
    "2 - Express the following set of samples as their mean +- standard deviation.\n",
    "          > 1, 3, 2, 6, 4, 4, 5, 7, 6, 4, 4, 5, 3, 5, 3, 2\n",
    "        \n",
    "    Find out how many standard devations from the mean would an observation as large as 8 represent?"
   ]
  },
  {
   "cell_type": "code",
   "execution_count": 17,
   "metadata": {},
   "outputs": [
    {
     "data": {
      "text/plain": [
       "1.6329931618554521"
      ]
     },
     "execution_count": 17,
     "metadata": {},
     "output_type": "execute_result"
    }
   ],
   "source": [
    "sample_2 = np.array([1, 3, 2, 6, 4, 4, 5, 7, 6, 4, 4, 5, 3, 5, 3, 2])\n",
    "sample_std = np.std(sample_2, ddof=1)\n",
    "sample_std"
   ]
  },
  {
   "cell_type": "code",
   "execution_count": 18,
   "metadata": {},
   "outputs": [
    {
     "data": {
      "text/plain": [
       "4.0"
      ]
     },
     "execution_count": 18,
     "metadata": {},
     "output_type": "execute_result"
    }
   ],
   "source": [
    "sample_mean = np.mean(sample_2)\n",
    "sample_mean"
   ]
  },
  {
   "cell_type": "code",
   "execution_count": 19,
   "metadata": {},
   "outputs": [
    {
     "data": {
      "text/plain": [
       "array([-1.83711731, -0.61237244, -1.22474487,  1.22474487,  0.        ,\n",
       "        0.        ,  0.61237244,  1.83711731,  1.22474487,  0.        ,\n",
       "        0.        ,  0.61237244, -0.61237244,  0.61237244, -0.61237244,\n",
       "       -1.22474487])"
      ]
     },
     "execution_count": 19,
     "metadata": {},
     "output_type": "execute_result"
    }
   ],
   "source": [
    "# express each number in terms of standard deviations from the mean\n",
    "(sample_2 - sample_mean) / sample_std"
   ]
  },
  {
   "cell_type": "code",
   "execution_count": 20,
   "metadata": {},
   "outputs": [
    {
     "data": {
      "text/plain": [
       "2.4494897427831779"
      ]
     },
     "execution_count": 20,
     "metadata": {},
     "output_type": "execute_result"
    }
   ],
   "source": [
    "# find out how many standard devations from the mean would an observation as large as 8 represent\n",
    "(8 - sample_mean) / sample_std"
   ]
  }
 ],
 "metadata": {
  "kernelspec": {
   "display_name": "Python 3",
   "language": "python",
   "name": "python3"
  },
  "language_info": {
   "codemirror_mode": {
    "name": "ipython",
    "version": 3
   },
   "file_extension": ".py",
   "mimetype": "text/x-python",
   "name": "python",
   "nbconvert_exporter": "python",
   "pygments_lexer": "ipython3",
   "version": "3.6.3"
  }
 },
 "nbformat": 4,
 "nbformat_minor": 2
}
